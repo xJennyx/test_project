{
 "cells": [
  {
   "cell_type": "markdown",
   "metadata": {},
   "source": [
    "# Generator function"
   ]
  },
  {
   "cell_type": "code",
   "execution_count": 3,
   "metadata": {},
   "outputs": [
    {
     "name": "stdout",
     "output_type": "stream",
     "text": [
      "Text consists on the words:Ivan and Ivanov\n"
     ]
    }
   ],
   "source": [
    "def generate_text(text1, text2):\n",
    "    return f'Text consists on the words:{text1} and {text2}'\n",
    "    \n",
    "print(generate_text('Ivan', 'Ivanov'))"
   ]
  },
  {
   "cell_type": "code",
   "execution_count": 4,
   "metadata": {},
   "outputs": [
    {
     "name": "stdout",
     "output_type": "stream",
     "text": [
      "1\n",
      "2\n",
      "5\n",
      "7\n",
      "4\n",
      "9\n"
     ]
    }
   ],
   "source": [
    "my_list = [1, 2, 5, 7, 4, 9]\n",
    "\n",
    "for x in my_list:\n",
    "    print(x)"
   ]
  },
  {
   "cell_type": "code",
   "execution_count": null,
   "metadata": {},
   "outputs": [],
   "source": [
    "n = 2\n",
    "\n",
    "progression = []\n",
    "num = 1\n",
    "while len(progression) < 1000000000:\n",
    "    progression.append(num)\n",
    "    num += n\n",
    "\n"
   ]
  },
  {
   "cell_type": "code",
   "execution_count": 18,
   "metadata": {},
   "outputs": [
    {
     "name": "stdout",
     "output_type": "stream",
     "text": [
      "1999999\n"
     ]
    }
   ],
   "source": [
    "def progression(limit = 100):\n",
    "    n = 2\n",
    "    num = 1\n",
    "    count = 1\n",
    "    while count < limit:\n",
    "        yield num\n",
    "        num += n\n",
    "        count += 1\n",
    "\n",
    "#for number in progression(10):\n",
    "#   print(number)\n",
    "#print(list(progression(10)))\n",
    "\n",
    "count = 1\n",
    "for number in progression(10000000000000000):\n",
    "    if count == 1000000:\n",
    "        print(number)\n",
    "        break\n",
    "    count +=1"
   ]
  }
 ],
 "metadata": {
  "kernelspec": {
   "display_name": "Python 3",
   "language": "python",
   "name": "python3"
  },
  "language_info": {
   "codemirror_mode": {
    "name": "ipython",
    "version": 3
   },
   "file_extension": ".py",
   "mimetype": "text/x-python",
   "name": "python",
   "nbconvert_exporter": "python",
   "pygments_lexer": "ipython3",
   "version": "3.13.1"
  }
 },
 "nbformat": 4,
 "nbformat_minor": 2
}
